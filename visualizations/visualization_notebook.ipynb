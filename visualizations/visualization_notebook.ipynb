# Soccer Analytics Visualization Notebook

# ## 1. Import Libraries

import pandas as pd
import matplotlib.pyplot as plt
import seaborn as sns
import plotly.express as px
from sqlalchemy import create_engine

# ## 2. Connect to the Database

# Database connection details (adjust this based on your actual data storage)
db_user = "user"
db_password = "password"
db_host = "localhost"
db_port = "5432"
db_name = "soccer_analytics"

# Create engine to connect to PostgreSQL (or any other supported database)
engine = create_engine(f'postgresql://{db_user}:{db_password}@{db_host}:{db_port}/{db_name}')

# Test query: Load team possession percentage data
query = """
SELECT team, possession_percentage
FROM possession_model
ORDER BY possession_percentage DESC;
"""

# Load data into a Pandas DataFrame
df = pd.read_sql(query, engine)

# Display the first few rows to ensure the data is loaded correctly
df.head()

# ## 3. Team Possession Visualization

# Set the size and style of the plot
plt.figure(figsize=(10, 6))
sns.set(style="whitegrid")

# Create a bar plot for team possession percentages
sns.barplot(x="team", y="possession_percentage", data=df, palette="Blues_d")

# Add titles and labels
plt.title('Team Possession Percentage', fontsize=16)
plt.xlabel('Team', fontsize=12)
plt.ylabel('Possession Percentage (%)', fontsize=12)

# Show the plot
plt.show()

# ## 4. Interactive Visualization with Plotly (Match Events Over Time)

# Example query to fetch match events (goals, fouls, passes)
events_query = """
SELECT event_type, time
FROM match_events
WHERE event_type IN ('goal', 'foul', 'pass');
"""

# Load event data into a DataFrame
events_df = pd.read_sql(events_query, engine)

# Create an interactive scatter plot for match events
fig = px.scatter(events_df, x='time', y='event_type', color='event_type', 
                 title='Soccer Match Events Over Time',
                 labels={'time': 'Match Time (seconds)', 'event_type': 'Event Type'})

# Show the interactive plot
fig.show()

# ## 5. Player Movement Heatmap Visualization

# Example query to fetch player location data
location_query = """
SELECT player_id, location_x, location_y
FROM player_locations
WHERE match_id = 'match_001';
"""

# Load player location data into a DataFrame
location_df = pd.read_sql(location_query, engine)

# Plot the player location heatmap using Seaborn
plt.figure(figsize=(12, 8))
sns.kdeplot(x=location_df['location_x'], y=location_df['location_y'], cmap='Reds', shade=True)

# Add titles and labels
plt.title('Player Movement Heatmap', fontsize=16)
plt.xlabel('Field Width (x)', fontsize=12)
plt.ylabel('Field Length (y)', fontsize=12)

# Show the plot
plt.show()

# ## 6. Advanced Metrics: Distance Covered by Players Over Time

# Example query to fetch distance covered data
distance_query = """
SELECT player_id, time, distance_covered
FROM player_metrics
WHERE match_id = 'match_001';
"""

# Load distance covered data into a DataFrame
distance_df = pd.read_sql(distance_query, engine)

# Plot distance covered over time for each player
plt.figure(figsize=(12, 6))

for player_id in distance_df['player_id'].unique():
    player_data = distance_df[distance_df['player_id'] == player_id]
    plt.plot(player_data['time'], player_data['distance_covered'], label=f'Player {player_id}')

# Add titles, labels, and legend
plt.title('Distance Covered by Players Over Time', fontsize=16)
plt.xlabel('Match Time (seconds)', fontsize=12)
plt.ylabel('Distance Covered (meters)', fontsize=12)
plt.legend()

# Show the plot
plt.show()
